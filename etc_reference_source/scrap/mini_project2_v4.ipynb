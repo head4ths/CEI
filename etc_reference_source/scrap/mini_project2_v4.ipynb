{
  "nbformat": 4,
  "nbformat_minor": 0,
  "metadata": {
    "colab": {
      "name": "mini-project2_v4",
      "provenance": [],
      "collapsed_sections": [],
      "authorship_tag": "ABX9TyNHsmE1hsPLahYirAthNPZJ",
      "include_colab_link": true
    },
    "kernelspec": {
      "name": "python3",
      "display_name": "Python 3"
    }
  },
  "cells": [
    {
      "cell_type": "markdown",
      "metadata": {
        "id": "view-in-github",
        "colab_type": "text"
      },
      "source": [
        "<a href=\"https://colab.research.google.com/github/head4ths/CEI/blob/master/mini_project2_v4.ipynb\" target=\"_parent\"><img src=\"https://colab.research.google.com/assets/colab-badge.svg\" alt=\"Open In Colab\"/></a>"
      ]
    },
    {
      "cell_type": "markdown",
      "metadata": {
        "id": "T6mDdtFFAy-h",
        "colab_type": "text"
      },
      "source": [
        "# 과제 개요"
      ]
    },
    {
      "cell_type": "code",
      "metadata": {
        "id": "Osd2Moow_43Z",
        "colab_type": "code",
        "colab": {}
      },
      "source": [
        "# 금융데이터 분석 7기 레벨 2 최종 미니프로젝트 제출 안내\n",
        "# - 제출기한 : 07/19 (일) 오후 11시 59분\n",
        "# - 제출 url : https://bit.ly/39IDJyp\n",
        "\n",
        "# * 과제 및 학습내용 관련 문의사항이 있으신 경우, 링크로 접속후 문의하시기 바랍니다. https://bit.ly/3bfaR1u\n",
        "# * 학습 진도 및 과제제출, 시스템 오류관련 문의는 김진표 매니저에게 메일 부탁드립니다. jinpyokim@fastcampus.co.kr \n",
        "\n",
        "# * 각 문제의 조건을 확인하신 후 문항 내 코드를 작성해주시면 됩니다. \n",
        "# 저장 후 파일형태(.ipynb)로 위에 게시된 링크를 통해 제출해주세요. \n",
        "\n",
        "# 중요 아래 칸에 제출자 성함 / 소속부서를 적어주세요.\n",
        "\n",
        "# 이름 : 이기로 (클릭하여 수정해주세요)\n",
        "# 소속 : 시스템팀 (클릭하여 수정해주세요)\n",
        "\n",
        "# 문제\n",
        "# 네이버 금융 페이지로 이동하여 다음 정보를 수집하여 엑셀파일로 저장합니다.\n",
        "# - 인기 검색 종목\n",
        "# - 갭상승\n",
        "# - 외국인 순매수/순매도 (심화문제)\n",
        "\n",
        "# 조건\n",
        "# 1) 인기 검색 종목을 수집하는 코드를 함수로 만들어서 인기 검색 종목을 튜플의 리스트로 반환합니다.\n",
        "# 2) 인기 검색 종목의 상승,하락 정보도 함께 수집해야합니다.\n",
        "# 3) 갭상승을 수집하는 코드를 함수로 만들어서 갭상승을 튜플의 리스트로 반환합니다.\n",
        "# 4) 엑셀파일로 저장할 때, 각 데이터를 위한 시트를 생성하여 별도로 수집합니다.\n",
        "# 5) (심화) 외국인 순매수/순매도를 수집하는 코드는 수집한 정보를 리스트의 딕셔너리로 반환합니다.\n",
        "# 6) (심화) 순매수와 순매도가 'buy'키와 'sell'키에 구분된 채로 수집되어야합니다.\n",
        "# 7) (심화) 엑셀로 저장할 때 순매수와 순매도 정보를 3번째 컬럼에 추가합니다. (이름, 가격, 순매수/순매도여부)\n",
        "\n",
        "# 예시\n",
        "# 1)~2) 데이터 결과 예시: [('씨젠', '119,200', '상승'), ('삼성전자', '48,200', '상승'), ('SK하이닉스', '80,700', '하락'), ...]\n",
        "# 3) 데이터 결과 예시: [('씨엠에스에듀', '6,140'), ('유한양행우', '63,100'), ...]\n",
        "# 5)~6) 데이터 결과 예시: {'buy': [['현대차', '102,500'], ['삼성화재', '203,500']], 'sell': ...}\n",
        "\n",
        "# Hint\n",
        "# 1) 생성할 함수는 selenium 라이브러리의 driver를 전달해야합니다. (예시: def get_popular_items(driver) )\n",
        "# 2) 인기 검색 종목이 상승인지 하락인지 확인하기 위해서는 숫자값의 클래스 속성값이 'dn'인지 'up'인지 get_attribute()를 알수있습니다.\n"
      ],
      "execution_count": null,
      "outputs": []
    },
    {
      "cell_type": "markdown",
      "metadata": {
        "id": "dHtiyEoIAve3",
        "colab_type": "text"
      },
      "source": [
        "# 모듈설치"
      ]
    },
    {
      "cell_type": "code",
      "metadata": {
        "id": "BoFSyRT5AHt8",
        "colab_type": "code",
        "colab": {
          "base_uri": "https://localhost:8080/",
          "height": 1000
        },
        "outputId": "e5e095fb-45a8-414e-8d17-ce846d4cc88d"
      },
      "source": [
        "### Google Colab 수행용 설치\n",
        "!pip install selenium\n",
        "!apt-get update # to update ubuntu to correctly run apt install\n",
        "!apt install chromium-chromedriver\n",
        "!cp /usr/lib/chromium-browser/chromedriver /usr/bin\n",
        "import sys\n",
        "sys.path.insert(0,'/usr/lib/chromium-browser/chromedriver')\n",
        "from selenium import webdriver"
      ],
      "execution_count": null,
      "outputs": [
        {
          "output_type": "stream",
          "text": [
            "Collecting selenium\n",
            "\u001b[?25l  Downloading https://files.pythonhosted.org/packages/80/d6/4294f0b4bce4de0abf13e17190289f9d0613b0a44e5dd6a7f5ca98459853/selenium-3.141.0-py2.py3-none-any.whl (904kB)\n",
            "\u001b[K     |████████████████████████████████| 911kB 2.7MB/s \n",
            "\u001b[?25hRequirement already satisfied: urllib3 in /usr/local/lib/python3.6/dist-packages (from selenium) (1.24.3)\n",
            "Installing collected packages: selenium\n",
            "Successfully installed selenium-3.141.0\n",
            "Get:1 https://cloud.r-project.org/bin/linux/ubuntu bionic-cran35/ InRelease [3,626 B]\n",
            "Ign:2 https://developer.download.nvidia.com/compute/cuda/repos/ubuntu1804/x86_64  InRelease\n",
            "Get:3 http://security.ubuntu.com/ubuntu bionic-security InRelease [88.7 kB]\n",
            "Get:4 http://ppa.launchpad.net/graphics-drivers/ppa/ubuntu bionic InRelease [21.3 kB]\n",
            "Hit:5 http://archive.ubuntu.com/ubuntu bionic InRelease\n",
            "Ign:6 https://developer.download.nvidia.com/compute/machine-learning/repos/ubuntu1804/x86_64  InRelease\n",
            "Hit:7 https://developer.download.nvidia.com/compute/cuda/repos/ubuntu1804/x86_64  Release\n",
            "Hit:8 https://developer.download.nvidia.com/compute/machine-learning/repos/ubuntu1804/x86_64  Release\n",
            "Get:9 http://archive.ubuntu.com/ubuntu bionic-updates InRelease [88.7 kB]\n",
            "Get:10 http://ppa.launchpad.net/marutter/c2d4u3.5/ubuntu bionic InRelease [15.4 kB]\n",
            "Get:11 http://archive.ubuntu.com/ubuntu bionic-backports InRelease [74.6 kB]\n",
            "Get:14 http://ppa.launchpad.net/graphics-drivers/ppa/ubuntu bionic/main amd64 Packages [43.3 kB]\n",
            "Get:15 http://security.ubuntu.com/ubuntu bionic-security/main amd64 Packages [1,005 kB]\n",
            "Get:16 http://ppa.launchpad.net/marutter/c2d4u3.5/ubuntu bionic/main Sources [1,849 kB]\n",
            "Get:17 http://archive.ubuntu.com/ubuntu bionic-updates/multiverse amd64 Packages [13.7 kB]\n",
            "Get:18 http://security.ubuntu.com/ubuntu bionic-security/universe amd64 Packages [869 kB]\n",
            "Get:19 http://security.ubuntu.com/ubuntu bionic-security/restricted amd64 Packages [89.9 kB]\n",
            "Get:20 http://security.ubuntu.com/ubuntu bionic-security/multiverse amd64 Packages [9,279 B]\n",
            "Get:21 http://archive.ubuntu.com/ubuntu bionic-updates/restricted amd64 Packages [104 kB]\n",
            "Get:22 http://archive.ubuntu.com/ubuntu bionic-updates/universe amd64 Packages [1,407 kB]\n",
            "Get:23 http://archive.ubuntu.com/ubuntu bionic-updates/main amd64 Packages [1,307 kB]\n",
            "Get:24 http://archive.ubuntu.com/ubuntu bionic-backports/universe amd64 Packages [8,432 B]\n",
            "Get:25 http://ppa.launchpad.net/marutter/c2d4u3.5/ubuntu bionic/main amd64 Packages [892 kB]\n",
            "Fetched 7,889 kB in 3s (2,317 kB/s)\n",
            "Reading package lists... Done\n",
            "Reading package lists... Done\n",
            "Building dependency tree       \n",
            "Reading state information... Done\n",
            "The following package was automatically installed and is no longer required:\n",
            "  libnvidia-common-440\n",
            "Use 'apt autoremove' to remove it.\n",
            "The following additional packages will be installed:\n",
            "  chromium-browser chromium-browser-l10n chromium-codecs-ffmpeg-extra\n",
            "Suggested packages:\n",
            "  webaccounts-chromium-extension unity-chromium-extension adobe-flashplugin\n",
            "The following NEW packages will be installed:\n",
            "  chromium-browser chromium-browser-l10n chromium-chromedriver\n",
            "  chromium-codecs-ffmpeg-extra\n",
            "0 upgraded, 4 newly installed, 0 to remove and 66 not upgraded.\n",
            "Need to get 75.5 MB of archives.\n",
            "After this operation, 256 MB of additional disk space will be used.\n",
            "Get:1 http://archive.ubuntu.com/ubuntu bionic-updates/universe amd64 chromium-codecs-ffmpeg-extra amd64 83.0.4103.61-0ubuntu0.18.04.1 [1,119 kB]\n",
            "Get:2 http://archive.ubuntu.com/ubuntu bionic-updates/universe amd64 chromium-browser amd64 83.0.4103.61-0ubuntu0.18.04.1 [66.7 MB]\n",
            "Get:3 http://archive.ubuntu.com/ubuntu bionic-updates/universe amd64 chromium-browser-l10n all 83.0.4103.61-0ubuntu0.18.04.1 [3,378 kB]\n",
            "Get:4 http://archive.ubuntu.com/ubuntu bionic-updates/universe amd64 chromium-chromedriver amd64 83.0.4103.61-0ubuntu0.18.04.1 [4,294 kB]\n",
            "Fetched 75.5 MB in 3s (23.7 MB/s)\n",
            "Selecting previously unselected package chromium-codecs-ffmpeg-extra.\n",
            "(Reading database ... 144465 files and directories currently installed.)\n",
            "Preparing to unpack .../chromium-codecs-ffmpeg-extra_83.0.4103.61-0ubuntu0.18.04.1_amd64.deb ...\n",
            "Unpacking chromium-codecs-ffmpeg-extra (83.0.4103.61-0ubuntu0.18.04.1) ...\n",
            "Selecting previously unselected package chromium-browser.\n",
            "Preparing to unpack .../chromium-browser_83.0.4103.61-0ubuntu0.18.04.1_amd64.deb ...\n",
            "Unpacking chromium-browser (83.0.4103.61-0ubuntu0.18.04.1) ...\n",
            "Selecting previously unselected package chromium-browser-l10n.\n",
            "Preparing to unpack .../chromium-browser-l10n_83.0.4103.61-0ubuntu0.18.04.1_all.deb ...\n",
            "Unpacking chromium-browser-l10n (83.0.4103.61-0ubuntu0.18.04.1) ...\n",
            "Selecting previously unselected package chromium-chromedriver.\n",
            "Preparing to unpack .../chromium-chromedriver_83.0.4103.61-0ubuntu0.18.04.1_amd64.deb ...\n",
            "Unpacking chromium-chromedriver (83.0.4103.61-0ubuntu0.18.04.1) ...\n",
            "Setting up chromium-codecs-ffmpeg-extra (83.0.4103.61-0ubuntu0.18.04.1) ...\n",
            "Setting up chromium-browser (83.0.4103.61-0ubuntu0.18.04.1) ...\n",
            "update-alternatives: using /usr/bin/chromium-browser to provide /usr/bin/x-www-browser (x-www-browser) in auto mode\n",
            "update-alternatives: using /usr/bin/chromium-browser to provide /usr/bin/gnome-www-browser (gnome-www-browser) in auto mode\n",
            "Setting up chromium-chromedriver (83.0.4103.61-0ubuntu0.18.04.1) ...\n",
            "Setting up chromium-browser-l10n (83.0.4103.61-0ubuntu0.18.04.1) ...\n",
            "Processing triggers for hicolor-icon-theme (0.17-2) ...\n",
            "Processing triggers for mime-support (3.60ubuntu1) ...\n",
            "Processing triggers for man-db (2.8.3-2ubuntu0.1) ...\n",
            "cp: '/usr/lib/chromium-browser/chromedriver' and '/usr/bin/chromedriver' are the same file\n"
          ],
          "name": "stdout"
        }
      ]
    },
    {
      "cell_type": "code",
      "metadata": {
        "id": "k-pN0gMKAZxX",
        "colab_type": "code",
        "colab": {
          "base_uri": "https://localhost:8080/",
          "height": 54
        },
        "outputId": "2057dc1c-ab4d-49af-f327-5fb5de8fcbc7"
      },
      "source": [
        "### 구글 Colab에서 수행용 Driver 설정\n",
        "chrome_options = webdriver.ChromeOptions()\n",
        "chrome_options.add_argument('--headless')\n",
        "chrome_options.add_argument('--no-sandbox')\n",
        "chrome_options.add_argument('--disable-dev-shm-usage')\n",
        "driver = webdriver.Chrome('chromedriver',chrome_options=chrome_options)"
      ],
      "execution_count": null,
      "outputs": [
        {
          "output_type": "stream",
          "text": [
            "/usr/local/lib/python3.6/dist-packages/ipykernel_launcher.py:6: DeprecationWarning: use options instead of chrome_options\n",
            "  \n"
          ],
          "name": "stderr"
        }
      ]
    },
    {
      "cell_type": "code",
      "metadata": {
        "id": "7f2XaBujAbCy",
        "colab_type": "code",
        "colab": {}
      },
      "source": [
        "### 기타모듈 설치 1\n",
        "from bs4 import BeautifulSoup\n",
        "import pandas as pd"
      ],
      "execution_count": null,
      "outputs": []
    },
    {
      "cell_type": "code",
      "metadata": {
        "id": "Y0KpozLzAdxx",
        "colab_type": "code",
        "colab": {
          "base_uri": "https://localhost:8080/",
          "height": 381
        },
        "outputId": "1d8ec989-a90a-4ba4-fad0-297cee199f7b"
      },
      "source": [
        "### 기타모듈 설치 2\n",
        "!pip install html_table_parser\n",
        "from html_table_parser import parser_functions as parser"
      ],
      "execution_count": null,
      "outputs": [
        {
          "output_type": "stream",
          "text": [
            "Collecting html_table_parser\n",
            "  Downloading https://files.pythonhosted.org/packages/59/40/41e167a70bffa68390789c51e22bf88eefefa20f61e79208d2bec61a9b79/html_table_parser-0.1.0.tar.gz\n",
            "Collecting beautifulsoup4==4.4.1\n",
            "\u001b[?25l  Downloading https://files.pythonhosted.org/packages/cf/69/9abfdab06490af5e0233bcebe3f617ec128486d94ea987ad4f77b9332eef/beautifulsoup4-4.4.1-py3-none-any.whl (81kB)\n",
            "\u001b[K     |████████████████████████████████| 81kB 2.2MB/s \n",
            "\u001b[?25hBuilding wheels for collected packages: html-table-parser\n",
            "  Building wheel for html-table-parser (setup.py) ... \u001b[?25l\u001b[?25hdone\n",
            "  Created wheel for html-table-parser: filename=html_table_parser-0.1.0-cp36-none-any.whl size=4647 sha256=00879d11b47eb6a15dbbcc4140077b5f8616efde13dc6b72d9e1329d3c3f2a9b\n",
            "  Stored in directory: /root/.cache/pip/wheels/fc/e4/bb/b7dee4117c35a093336952e875c88febba9f4764fa0dbd4eb9\n",
            "Successfully built html-table-parser\n",
            "Installing collected packages: beautifulsoup4, html-table-parser\n",
            "  Found existing installation: beautifulsoup4 4.6.3\n",
            "    Uninstalling beautifulsoup4-4.6.3:\n",
            "      Successfully uninstalled beautifulsoup4-4.6.3\n",
            "Successfully installed beautifulsoup4-4.4.1 html-table-parser-0.1.0\n"
          ],
          "name": "stdout"
        },
        {
          "output_type": "display_data",
          "data": {
            "application/vnd.colab-display-data+json": {
              "pip_warning": {
                "packages": [
                  "bs4"
                ]
              }
            }
          },
          "metadata": {
            "tags": []
          }
        }
      ]
    },
    {
      "cell_type": "code",
      "metadata": {
        "id": "2Z5W8dDbAknp",
        "colab_type": "code",
        "colab": {}
      },
      "source": [
        "### 기타모듈 설치 3\n",
        "from google.colab import files"
      ],
      "execution_count": null,
      "outputs": []
    },
    {
      "cell_type": "markdown",
      "metadata": {
        "id": "Xp7HJw6XA5Mb",
        "colab_type": "text"
      },
      "source": [
        "# 함수 - 문항 1) ~ 5)"
      ]
    },
    {
      "cell_type": "code",
      "metadata": {
        "id": "i4dfn--tA7Y2",
        "colab_type": "code",
        "colab": {}
      },
      "source": [
        "# 문항 1) 인기 검색 종목을 수집하는 함수\n",
        "def get_popular_items(driver):\n",
        "    results = []\n",
        "\n",
        "    # 문항 2) 수집하는 코드 작성하여 results에 추가\n",
        "    driver.get(\"https://finance.naver.com/\")\n",
        "    req = driver.page_source\n",
        "    soup=BeautifulSoup(req, 'html.parser')    \n",
        "    data = soup.select(\"#container > div.aside > div.group_aside > div.aside_area.aside_popular > table > tbody > tr\")\n",
        "\n",
        "    for item in data:\n",
        "      results.append( (item.find('th').text, item.find_all('td')[0].text, item.find_all('td')[1].text[0:2]) )\n",
        "    #print(results)\n",
        "\n",
        "    return results"
      ],
      "execution_count": null,
      "outputs": []
    },
    {
      "cell_type": "code",
      "metadata": {
        "id": "DuQEYnSdCIyQ",
        "colab_type": "code",
        "colab": {}
      },
      "source": [
        "def get_gap_items(driver):\n",
        "    results = []\n",
        "    \n",
        "    # 문항 3) 수집하는 코드 작성하여 results에 추가\n",
        "    driver.get(\"https://finance.naver.com/sise/\")\n",
        "    req = driver.page_source\n",
        "    soup=BeautifulSoup(req, 'html.parser')    \n",
        "    data = soup.select(\"#contentarea_right > div.box_type_r > table > tbody > tr\")\n",
        "\n",
        "    for item in data:\n",
        "      results.append( (item.find_all('td')[0].text, item.find_all('td')[1].text) )\n",
        "    #print(results)\n",
        "\n",
        "    return results"
      ],
      "execution_count": null,
      "outputs": []
    },
    {
      "cell_type": "code",
      "metadata": {
        "id": "clV_kSwLx-HK",
        "colab_type": "code",
        "colab": {}
      },
      "source": [
        "# - 외국인 순매수/순매도 (심화문제)\n",
        "\n",
        "# 조건\n",
        "# 5) (심화) 외국인 순매수/순매도를 수집하는 코드는 수집한 정보를 리스트의 딕셔너리로 반환합니다.\n",
        "# 6) (심화) 순매수와 순매도가 'buy'키와 'sell'키에 구분된 채로 수집되어야합니다.\n",
        "# 7) (심화) 엑셀로 저장할 때 순매수와 순매도 정보를 3번째 컬럼에 추가합니다. (이름, 가격, 순매수/순매도여부)\n",
        "\n",
        "# 예시\n",
        "# 5)~6) 데이터 결과 예시: {'buy': [['현대차', '102,500'], ['삼성화재', '203,500']], 'sell': ...}"
      ],
      "execution_count": null,
      "outputs": []
    },
    {
      "cell_type": "code",
      "metadata": {
        "id": "RZozI_blKEDR",
        "colab_type": "code",
        "colab": {}
      },
      "source": [
        "# 문항 4) 심화문제 함수 #\n",
        "def get_foreigner_info(driver):\n",
        "    results = {\n",
        "        'buy': [],\n",
        "        'sell': []\n",
        "    }\n",
        "\n",
        "    # 문항 5) 순매도와 순매수를 구분하여 results에 추가\n",
        "    ### 순매수\n",
        "    driver.get(\"https://finance.naver.com/sise/\")\n",
        "    req = driver.page_source\n",
        "    soup=BeautifulSoup(req, 'html.parser')    \n",
        "\n",
        "    data = soup.select(\"#contentarea_left > div.box_type_s > #frgn_deal_tab_0 > tbody > tr \")\n",
        "\n",
        "    list3 = []\n",
        "\n",
        "    list3.append([data[1].find_all('td')[1].text, data[1].find_all('td')[2].text])\n",
        "    list3.append([data[2].find_all('td')[1].text, data[2].find_all('td')[2].text])\n",
        "    list3.append([data[3].find_all('td')[1].text, data[3].find_all('td')[2].text])\n",
        "    list3.append([data[7].find_all('td')[1].text, data[7].find_all('td')[2].text])\n",
        "    list3.append([data[8].find_all('td')[1].text, data[8].find_all('td')[2].text])\n",
        "    list3.append([data[9].find_all('td')[1].text, data[9].find_all('td')[2].text])\n",
        "\n",
        "    #print(list3)\n",
        "\n",
        "    ### 순매도\n",
        "\n",
        "    data = soup.select(\"#contentarea_left > div.box_type_s > #frgn_deal_tab_1 > tbody > tr \")\n",
        "\n",
        "    list4 = []\n",
        "\n",
        "    list4.append([data[1].find_all('td')[1].text, data[1].find_all('td')[2].text])\n",
        "    list4.append([data[2].find_all('td')[1].text, data[2].find_all('td')[2].text])\n",
        "    list4.append([data[3].find_all('td')[1].text, data[3].find_all('td')[2].text])\n",
        "    list4.append([data[7].find_all('td')[1].text, data[7].find_all('td')[2].text])\n",
        "    list4.append([data[8].find_all('td')[1].text, data[8].find_all('td')[2].text])\n",
        "    list4.append([data[9].find_all('td')[1].text, data[9].find_all('td')[2].text])\n",
        "\n",
        "    #print(list4)\n",
        "\n",
        "    results['buy'].append(list3)\n",
        "    results['sell'].append(list4)\n",
        "\n",
        "    return results\n"
      ],
      "execution_count": null,
      "outputs": []
    },
    {
      "cell_type": "markdown",
      "metadata": {
        "id": "nOpjnH_RBDt2",
        "colab_type": "text"
      },
      "source": [
        "# 함수 호출 \n"
      ]
    },
    {
      "cell_type": "code",
      "metadata": {
        "id": "_QqQh-z6BDDl",
        "colab_type": "code",
        "colab": {
          "base_uri": "https://localhost:8080/",
          "height": 35
        },
        "outputId": "d8ad5b5b-de4f-4c36-ed17-ff78ecc43f90"
      },
      "source": [
        "list1 = get_popular_items(driver)\n",
        "print(list1)"
      ],
      "execution_count": null,
      "outputs": [
        {
          "output_type": "stream",
          "text": [
            "[('1.셀트리온', '328,000', '상승'), ('2.삼성전자', '54,400', '상승'), ('3.현대차', '117,500', '상승'), ('4.신풍제약', '73,000', '상승'), ('5.SK바이오팜', '191,000', '상승')]\n"
          ],
          "name": "stdout"
        }
      ]
    },
    {
      "cell_type": "code",
      "metadata": {
        "id": "rJtsxLzhCoSF",
        "colab_type": "code",
        "colab": {
          "base_uri": "https://localhost:8080/",
          "height": 55
        },
        "outputId": "f1d01e3b-f3e4-4802-bb38-144f77ccd714"
      },
      "source": [
        "list2 = get_gap_items(driver)\n",
        "print(list2)"
      ],
      "execution_count": null,
      "outputs": [
        {
          "output_type": "stream",
          "text": [
            "[('신풍제약우', '98,400'), ('카스', '2,040'), ('웰크론한텍', '2,150'), ('형지I&C', '735'), ('일양약품우', '99,000'), ('영보화학', '3,255'), ('형지엘리트', '1,795'), ('뉴보텍', '1,665'), ('SK머티리얼즈', '246,000'), ('한국팩키지', '2,590'), ('유라테크', '8,860'), ('엔브이에이치코리아', '2,905'), ('CS', '2,535'), ('삼화전자', '2,970'), ('대유', '16,100'), ('교보8호스팩', '2,075'), ('경농', '12,550'), ('금호전기', '3,675'), ('RFHIC', '39,600'), ('미래테크놀로지', '8,090')]\n"
          ],
          "name": "stdout"
        }
      ]
    },
    {
      "cell_type": "code",
      "metadata": {
        "id": "CcCOJ9I4KjsC",
        "colab_type": "code",
        "colab": {
          "base_uri": "https://localhost:8080/",
          "height": 55
        },
        "outputId": "b20b4e86-dd24-4ff3-e7cb-a8c383188db1"
      },
      "source": [
        "\n",
        "dict1 = get_foreigner_info(driver)\n",
        "print(dict1)"
      ],
      "execution_count": null,
      "outputs": [
        {
          "output_type": "stream",
          "text": [
            "{'buy': [[['현대차', '117,500'], ['삼성전자', '54,400'], ['셀트리온', '328,000'], ['NAVER', '276,000'], ['씨젠', '175,500'], ['KODEX 200', '29,225']]], 'sell': [[['LG화학', '516,000'], ['카카오', '325,000'], ['삼성SDI', '383,500'], ['KODEX 200선물인버스2X', '4,890'], ['한국금융지주', '48,650'], ['한국전력', '19,750']]]}\n"
          ],
          "name": "stdout"
        }
      ]
    },
    {
      "cell_type": "markdown",
      "metadata": {
        "id": "pTa1XDmoC95t",
        "colab_type": "text"
      },
      "source": [
        "# 데이터프레임으로 변형"
      ]
    },
    {
      "cell_type": "code",
      "metadata": {
        "id": "h9Q0-pNKDB71",
        "colab_type": "code",
        "colab": {
          "base_uri": "https://localhost:8080/",
          "height": 198
        },
        "outputId": "0fede278-4740-4997-aae7-d6698b08a2ea"
      },
      "source": [
        "df1 = pd.DataFrame(list1) \n",
        "df1"
      ],
      "execution_count": null,
      "outputs": [
        {
          "output_type": "execute_result",
          "data": {
            "text/html": [
              "<div>\n",
              "<style scoped>\n",
              "    .dataframe tbody tr th:only-of-type {\n",
              "        vertical-align: middle;\n",
              "    }\n",
              "\n",
              "    .dataframe tbody tr th {\n",
              "        vertical-align: top;\n",
              "    }\n",
              "\n",
              "    .dataframe thead th {\n",
              "        text-align: right;\n",
              "    }\n",
              "</style>\n",
              "<table border=\"1\" class=\"dataframe\">\n",
              "  <thead>\n",
              "    <tr style=\"text-align: right;\">\n",
              "      <th></th>\n",
              "      <th>0</th>\n",
              "      <th>1</th>\n",
              "      <th>2</th>\n",
              "    </tr>\n",
              "  </thead>\n",
              "  <tbody>\n",
              "    <tr>\n",
              "      <th>0</th>\n",
              "      <td>1.셀트리온</td>\n",
              "      <td>328,000</td>\n",
              "      <td>상승</td>\n",
              "    </tr>\n",
              "    <tr>\n",
              "      <th>1</th>\n",
              "      <td>2.삼성전자</td>\n",
              "      <td>54,400</td>\n",
              "      <td>상승</td>\n",
              "    </tr>\n",
              "    <tr>\n",
              "      <th>2</th>\n",
              "      <td>3.현대차</td>\n",
              "      <td>117,500</td>\n",
              "      <td>상승</td>\n",
              "    </tr>\n",
              "    <tr>\n",
              "      <th>3</th>\n",
              "      <td>4.신풍제약</td>\n",
              "      <td>73,000</td>\n",
              "      <td>상승</td>\n",
              "    </tr>\n",
              "    <tr>\n",
              "      <th>4</th>\n",
              "      <td>5.SK바이오팜</td>\n",
              "      <td>191,000</td>\n",
              "      <td>상승</td>\n",
              "    </tr>\n",
              "  </tbody>\n",
              "</table>\n",
              "</div>"
            ],
            "text/plain": [
              "          0        1   2\n",
              "0    1.셀트리온  328,000  상승\n",
              "1    2.삼성전자   54,400  상승\n",
              "2     3.현대차  117,500  상승\n",
              "3    4.신풍제약   73,000  상승\n",
              "4  5.SK바이오팜  191,000  상승"
            ]
          },
          "metadata": {
            "tags": []
          },
          "execution_count": 14
        }
      ]
    },
    {
      "cell_type": "code",
      "metadata": {
        "id": "149tbvyDCywy",
        "colab_type": "code",
        "colab": {
          "base_uri": "https://localhost:8080/",
          "height": 648
        },
        "outputId": "9405a0f1-2d99-4091-81ba-3e9b3c1fcb9d"
      },
      "source": [
        "df2 = pd.DataFrame(list2) \n",
        "df2"
      ],
      "execution_count": null,
      "outputs": [
        {
          "output_type": "execute_result",
          "data": {
            "text/html": [
              "<div>\n",
              "<style scoped>\n",
              "    .dataframe tbody tr th:only-of-type {\n",
              "        vertical-align: middle;\n",
              "    }\n",
              "\n",
              "    .dataframe tbody tr th {\n",
              "        vertical-align: top;\n",
              "    }\n",
              "\n",
              "    .dataframe thead th {\n",
              "        text-align: right;\n",
              "    }\n",
              "</style>\n",
              "<table border=\"1\" class=\"dataframe\">\n",
              "  <thead>\n",
              "    <tr style=\"text-align: right;\">\n",
              "      <th></th>\n",
              "      <th>0</th>\n",
              "      <th>1</th>\n",
              "    </tr>\n",
              "  </thead>\n",
              "  <tbody>\n",
              "    <tr>\n",
              "      <th>0</th>\n",
              "      <td>신풍제약우</td>\n",
              "      <td>98,400</td>\n",
              "    </tr>\n",
              "    <tr>\n",
              "      <th>1</th>\n",
              "      <td>카스</td>\n",
              "      <td>2,040</td>\n",
              "    </tr>\n",
              "    <tr>\n",
              "      <th>2</th>\n",
              "      <td>웰크론한텍</td>\n",
              "      <td>2,150</td>\n",
              "    </tr>\n",
              "    <tr>\n",
              "      <th>3</th>\n",
              "      <td>형지I&amp;C</td>\n",
              "      <td>735</td>\n",
              "    </tr>\n",
              "    <tr>\n",
              "      <th>4</th>\n",
              "      <td>일양약품우</td>\n",
              "      <td>99,000</td>\n",
              "    </tr>\n",
              "    <tr>\n",
              "      <th>5</th>\n",
              "      <td>영보화학</td>\n",
              "      <td>3,255</td>\n",
              "    </tr>\n",
              "    <tr>\n",
              "      <th>6</th>\n",
              "      <td>형지엘리트</td>\n",
              "      <td>1,795</td>\n",
              "    </tr>\n",
              "    <tr>\n",
              "      <th>7</th>\n",
              "      <td>뉴보텍</td>\n",
              "      <td>1,665</td>\n",
              "    </tr>\n",
              "    <tr>\n",
              "      <th>8</th>\n",
              "      <td>SK머티리얼즈</td>\n",
              "      <td>246,000</td>\n",
              "    </tr>\n",
              "    <tr>\n",
              "      <th>9</th>\n",
              "      <td>한국팩키지</td>\n",
              "      <td>2,590</td>\n",
              "    </tr>\n",
              "    <tr>\n",
              "      <th>10</th>\n",
              "      <td>유라테크</td>\n",
              "      <td>8,860</td>\n",
              "    </tr>\n",
              "    <tr>\n",
              "      <th>11</th>\n",
              "      <td>엔브이에이치코리아</td>\n",
              "      <td>2,905</td>\n",
              "    </tr>\n",
              "    <tr>\n",
              "      <th>12</th>\n",
              "      <td>CS</td>\n",
              "      <td>2,535</td>\n",
              "    </tr>\n",
              "    <tr>\n",
              "      <th>13</th>\n",
              "      <td>삼화전자</td>\n",
              "      <td>2,970</td>\n",
              "    </tr>\n",
              "    <tr>\n",
              "      <th>14</th>\n",
              "      <td>대유</td>\n",
              "      <td>16,100</td>\n",
              "    </tr>\n",
              "    <tr>\n",
              "      <th>15</th>\n",
              "      <td>교보8호스팩</td>\n",
              "      <td>2,075</td>\n",
              "    </tr>\n",
              "    <tr>\n",
              "      <th>16</th>\n",
              "      <td>경농</td>\n",
              "      <td>12,550</td>\n",
              "    </tr>\n",
              "    <tr>\n",
              "      <th>17</th>\n",
              "      <td>금호전기</td>\n",
              "      <td>3,675</td>\n",
              "    </tr>\n",
              "    <tr>\n",
              "      <th>18</th>\n",
              "      <td>RFHIC</td>\n",
              "      <td>39,600</td>\n",
              "    </tr>\n",
              "    <tr>\n",
              "      <th>19</th>\n",
              "      <td>미래테크놀로지</td>\n",
              "      <td>8,090</td>\n",
              "    </tr>\n",
              "  </tbody>\n",
              "</table>\n",
              "</div>"
            ],
            "text/plain": [
              "            0        1\n",
              "0       신풍제약우   98,400\n",
              "1          카스    2,040\n",
              "2       웰크론한텍    2,150\n",
              "3       형지I&C      735\n",
              "4       일양약품우   99,000\n",
              "5        영보화학    3,255\n",
              "6       형지엘리트    1,795\n",
              "7         뉴보텍    1,665\n",
              "8     SK머티리얼즈  246,000\n",
              "9       한국팩키지    2,590\n",
              "10       유라테크    8,860\n",
              "11  엔브이에이치코리아    2,905\n",
              "12         CS    2,535\n",
              "13       삼화전자    2,970\n",
              "14         대유   16,100\n",
              "15     교보8호스팩    2,075\n",
              "16         경농   12,550\n",
              "17       금호전기    3,675\n",
              "18      RFHIC   39,600\n",
              "19    미래테크놀로지    8,090"
            ]
          },
          "metadata": {
            "tags": []
          },
          "execution_count": 15
        }
      ]
    },
    {
      "cell_type": "code",
      "metadata": {
        "id": "oN1fXctBMAUb",
        "colab_type": "code",
        "colab": {
          "base_uri": "https://localhost:8080/",
          "height": 55
        },
        "outputId": "1d91a66f-b2b4-42ab-a5dd-a22dd9698a21"
      },
      "source": [
        "list3 = []\n",
        "for i in range(6) :\n",
        "  dict1['buy'][0][i].append('buy')\n",
        "  dict1['sell'][0][i].append('sell')\n",
        "  list3.append(dict1['buy'][0][i])\n",
        "  list3.append(dict1['sell'][0][i])\n",
        "\n",
        "print(list3)"
      ],
      "execution_count": null,
      "outputs": [
        {
          "output_type": "stream",
          "text": [
            "[['현대차', '117,500', 'buy'], ['LG화학', '516,000', 'sell'], ['삼성전자', '54,400', 'buy'], ['카카오', '325,000', 'sell'], ['셀트리온', '328,000', 'buy'], ['삼성SDI', '383,500', 'sell'], ['NAVER', '276,000', 'buy'], ['KODEX 200선물인버스2X', '4,890', 'sell'], ['씨젠', '175,500', 'buy'], ['한국금융지주', '48,650', 'sell'], ['KODEX 200', '29,225', 'buy'], ['한국전력', '19,750', 'sell']]\n"
          ],
          "name": "stdout"
        }
      ]
    },
    {
      "cell_type": "code",
      "metadata": {
        "id": "sm1Q0dCqMQko",
        "colab_type": "code",
        "colab": {
          "base_uri": "https://localhost:8080/",
          "height": 408
        },
        "outputId": "3dbe9d3b-b276-4a33-90f9-d8920afac704"
      },
      "source": [
        "df3 = pd.DataFrame(list3) \n",
        "df3"
      ],
      "execution_count": null,
      "outputs": [
        {
          "output_type": "execute_result",
          "data": {
            "text/html": [
              "<div>\n",
              "<style scoped>\n",
              "    .dataframe tbody tr th:only-of-type {\n",
              "        vertical-align: middle;\n",
              "    }\n",
              "\n",
              "    .dataframe tbody tr th {\n",
              "        vertical-align: top;\n",
              "    }\n",
              "\n",
              "    .dataframe thead th {\n",
              "        text-align: right;\n",
              "    }\n",
              "</style>\n",
              "<table border=\"1\" class=\"dataframe\">\n",
              "  <thead>\n",
              "    <tr style=\"text-align: right;\">\n",
              "      <th></th>\n",
              "      <th>0</th>\n",
              "      <th>1</th>\n",
              "      <th>2</th>\n",
              "    </tr>\n",
              "  </thead>\n",
              "  <tbody>\n",
              "    <tr>\n",
              "      <th>0</th>\n",
              "      <td>현대차</td>\n",
              "      <td>117,500</td>\n",
              "      <td>buy</td>\n",
              "    </tr>\n",
              "    <tr>\n",
              "      <th>1</th>\n",
              "      <td>LG화학</td>\n",
              "      <td>516,000</td>\n",
              "      <td>sell</td>\n",
              "    </tr>\n",
              "    <tr>\n",
              "      <th>2</th>\n",
              "      <td>삼성전자</td>\n",
              "      <td>54,400</td>\n",
              "      <td>buy</td>\n",
              "    </tr>\n",
              "    <tr>\n",
              "      <th>3</th>\n",
              "      <td>카카오</td>\n",
              "      <td>325,000</td>\n",
              "      <td>sell</td>\n",
              "    </tr>\n",
              "    <tr>\n",
              "      <th>4</th>\n",
              "      <td>셀트리온</td>\n",
              "      <td>328,000</td>\n",
              "      <td>buy</td>\n",
              "    </tr>\n",
              "    <tr>\n",
              "      <th>5</th>\n",
              "      <td>삼성SDI</td>\n",
              "      <td>383,500</td>\n",
              "      <td>sell</td>\n",
              "    </tr>\n",
              "    <tr>\n",
              "      <th>6</th>\n",
              "      <td>NAVER</td>\n",
              "      <td>276,000</td>\n",
              "      <td>buy</td>\n",
              "    </tr>\n",
              "    <tr>\n",
              "      <th>7</th>\n",
              "      <td>KODEX 200선물인버스2X</td>\n",
              "      <td>4,890</td>\n",
              "      <td>sell</td>\n",
              "    </tr>\n",
              "    <tr>\n",
              "      <th>8</th>\n",
              "      <td>씨젠</td>\n",
              "      <td>175,500</td>\n",
              "      <td>buy</td>\n",
              "    </tr>\n",
              "    <tr>\n",
              "      <th>9</th>\n",
              "      <td>한국금융지주</td>\n",
              "      <td>48,650</td>\n",
              "      <td>sell</td>\n",
              "    </tr>\n",
              "    <tr>\n",
              "      <th>10</th>\n",
              "      <td>KODEX 200</td>\n",
              "      <td>29,225</td>\n",
              "      <td>buy</td>\n",
              "    </tr>\n",
              "    <tr>\n",
              "      <th>11</th>\n",
              "      <td>한국전력</td>\n",
              "      <td>19,750</td>\n",
              "      <td>sell</td>\n",
              "    </tr>\n",
              "  </tbody>\n",
              "</table>\n",
              "</div>"
            ],
            "text/plain": [
              "                   0        1     2\n",
              "0                현대차  117,500   buy\n",
              "1               LG화학  516,000  sell\n",
              "2               삼성전자   54,400   buy\n",
              "3                카카오  325,000  sell\n",
              "4               셀트리온  328,000   buy\n",
              "5              삼성SDI  383,500  sell\n",
              "6              NAVER  276,000   buy\n",
              "7   KODEX 200선물인버스2X    4,890  sell\n",
              "8                 씨젠  175,500   buy\n",
              "9             한국금융지주   48,650  sell\n",
              "10         KODEX 200   29,225   buy\n",
              "11              한국전력   19,750  sell"
            ]
          },
          "metadata": {
            "tags": []
          },
          "execution_count": 17
        }
      ]
    },
    {
      "cell_type": "markdown",
      "metadata": {
        "id": "Pvt5xCsaDH8n",
        "colab_type": "text"
      },
      "source": [
        "# 엑셀로 저장 - 문항 6)"
      ]
    },
    {
      "cell_type": "code",
      "metadata": {
        "id": "cto1zodHDLny",
        "colab_type": "code",
        "colab": {
          "base_uri": "https://localhost:8080/",
          "height": 17
        },
        "outputId": "67424e0f-1c50-48c5-9dd7-4570944c4436"
      },
      "source": [
        "# 문항 6) 함수를 호출하고 엑셀에 저장하는 코드 작성\n",
        "\n",
        "writer = pd.ExcelWriter('test.xlsx')\n",
        "df1.to_excel(writer, 'sheet1') \n",
        "df2.to_excel(writer, 'sheet2')\n",
        "df3.to_excel(writer, 'sheet3')\n",
        "writer.save()\n",
        "files.download('test.xlsx')  # 구글 Colab 파일 Download"
      ],
      "execution_count": null,
      "outputs": [
        {
          "output_type": "display_data",
          "data": {
            "application/javascript": [
              "\n",
              "    async function download(id, filename, size) {\n",
              "      if (!google.colab.kernel.accessAllowed) {\n",
              "        return;\n",
              "      }\n",
              "      const div = document.createElement('div');\n",
              "      const label = document.createElement('label');\n",
              "      label.textContent = `Downloading \"${filename}\": `;\n",
              "      div.appendChild(label);\n",
              "      const progress = document.createElement('progress');\n",
              "      progress.max = size;\n",
              "      div.appendChild(progress);\n",
              "      document.body.appendChild(div);\n",
              "\n",
              "      const buffers = [];\n",
              "      let downloaded = 0;\n",
              "\n",
              "      const channel = await google.colab.kernel.comms.open(id);\n",
              "      // Send a message to notify the kernel that we're ready.\n",
              "      channel.send({})\n",
              "\n",
              "      for await (const message of channel.messages) {\n",
              "        // Send a message to notify the kernel that we're ready.\n",
              "        channel.send({})\n",
              "        if (message.buffers) {\n",
              "          for (const buffer of message.buffers) {\n",
              "            buffers.push(buffer);\n",
              "            downloaded += buffer.byteLength;\n",
              "            progress.value = downloaded;\n",
              "          }\n",
              "        }\n",
              "      }\n",
              "      const blob = new Blob(buffers, {type: 'application/binary'});\n",
              "      const a = document.createElement('a');\n",
              "      a.href = window.URL.createObjectURL(blob);\n",
              "      a.download = filename;\n",
              "      div.appendChild(a);\n",
              "      a.click();\n",
              "      div.remove();\n",
              "    }\n",
              "  "
            ],
            "text/plain": [
              "<IPython.core.display.Javascript object>"
            ]
          },
          "metadata": {
            "tags": []
          }
        },
        {
          "output_type": "display_data",
          "data": {
            "application/javascript": [
              "download(\"download_6f8cde47-3824-4c0e-a381-ae007ea5e5a7\", \"test.xlsx\", 7271)"
            ],
            "text/plain": [
              "<IPython.core.display.Javascript object>"
            ]
          },
          "metadata": {
            "tags": []
          }
        }
      ]
    }
  ]
}